{
  "nbformat": 4,
  "nbformat_minor": 0,
  "metadata": {
    "colab": {
      "provenance": [],
      "machine_shape": "hm",
      "include_colab_link": true
    },
    "kernelspec": {
      "name": "python3",
      "display_name": "Python 3"
    },
    "language_info": {
      "name": "python"
    },
    "widgets": {
      "application/vnd.jupyter.widget-state+json": {
        "529d0bd240124ad0996beb37b84df0c4": {
          "model_module": "@jupyter-widgets/controls",
          "model_name": "HBoxModel",
          "model_module_version": "1.5.0",
          "state": {
            "_dom_classes": [],
            "_model_module": "@jupyter-widgets/controls",
            "_model_module_version": "1.5.0",
            "_model_name": "HBoxModel",
            "_view_count": null,
            "_view_module": "@jupyter-widgets/controls",
            "_view_module_version": "1.5.0",
            "_view_name": "HBoxView",
            "box_style": "",
            "children": [
              "IPY_MODEL_a4409363d601444080dc231d66ac04f9",
              "IPY_MODEL_2f1d96ea89f64c02859f552513f82569",
              "IPY_MODEL_2009ae2d8659480ba38e2b52bd50b785"
            ],
            "layout": "IPY_MODEL_99fd91bd21dc424cb125b8bf82103060"
          }
        },
        "a4409363d601444080dc231d66ac04f9": {
          "model_module": "@jupyter-widgets/controls",
          "model_name": "HTMLModel",
          "model_module_version": "1.5.0",
          "state": {
            "_dom_classes": [],
            "_model_module": "@jupyter-widgets/controls",
            "_model_module_version": "1.5.0",
            "_model_name": "HTMLModel",
            "_view_count": null,
            "_view_module": "@jupyter-widgets/controls",
            "_view_module_version": "1.5.0",
            "_view_name": "HTMLView",
            "description": "",
            "description_tooltip": null,
            "layout": "IPY_MODEL_2870d1f79d0a4c269b2013c5ae04207e",
            "placeholder": "​",
            "style": "IPY_MODEL_e18cd0870770401998906f5ae942656c",
            "value": "Downloading: 100%"
          }
        },
        "2f1d96ea89f64c02859f552513f82569": {
          "model_module": "@jupyter-widgets/controls",
          "model_name": "FloatProgressModel",
          "model_module_version": "1.5.0",
          "state": {
            "_dom_classes": [],
            "_model_module": "@jupyter-widgets/controls",
            "_model_module_version": "1.5.0",
            "_model_name": "FloatProgressModel",
            "_view_count": null,
            "_view_module": "@jupyter-widgets/controls",
            "_view_module_version": "1.5.0",
            "_view_name": "ProgressView",
            "bar_style": "success",
            "description": "",
            "description_tooltip": null,
            "layout": "IPY_MODEL_07485e67417a49d1b5991cc7dd93f9ad",
            "max": 2825034,
            "min": 0,
            "orientation": "horizontal",
            "style": "IPY_MODEL_796a8f17426d47b2a98f4c4b114449d9",
            "value": 2825034
          }
        },
        "2009ae2d8659480ba38e2b52bd50b785": {
          "model_module": "@jupyter-widgets/controls",
          "model_name": "HTMLModel",
          "model_module_version": "1.5.0",
          "state": {
            "_dom_classes": [],
            "_model_module": "@jupyter-widgets/controls",
            "_model_module_version": "1.5.0",
            "_model_name": "HTMLModel",
            "_view_count": null,
            "_view_module": "@jupyter-widgets/controls",
            "_view_module_version": "1.5.0",
            "_view_name": "HTMLView",
            "description": "",
            "description_tooltip": null,
            "layout": "IPY_MODEL_2c974a4d736e4e0aa8fb2e1df8dfaeab",
            "placeholder": "​",
            "style": "IPY_MODEL_295f636c11ec4986ba5e6881d72dfd18",
            "value": " 2.83M/2.83M [00:00&lt;00:00, 5.54MB/s]"
          }
        },
        "99fd91bd21dc424cb125b8bf82103060": {
          "model_module": "@jupyter-widgets/base",
          "model_name": "LayoutModel",
          "model_module_version": "1.2.0",
          "state": {
            "_model_module": "@jupyter-widgets/base",
            "_model_module_version": "1.2.0",
            "_model_name": "LayoutModel",
            "_view_count": null,
            "_view_module": "@jupyter-widgets/base",
            "_view_module_version": "1.2.0",
            "_view_name": "LayoutView",
            "align_content": null,
            "align_items": null,
            "align_self": null,
            "border": null,
            "bottom": null,
            "display": null,
            "flex": null,
            "flex_flow": null,
            "grid_area": null,
            "grid_auto_columns": null,
            "grid_auto_flow": null,
            "grid_auto_rows": null,
            "grid_column": null,
            "grid_gap": null,
            "grid_row": null,
            "grid_template_areas": null,
            "grid_template_columns": null,
            "grid_template_rows": null,
            "height": null,
            "justify_content": null,
            "justify_items": null,
            "left": null,
            "margin": null,
            "max_height": null,
            "max_width": null,
            "min_height": null,
            "min_width": null,
            "object_fit": null,
            "object_position": null,
            "order": null,
            "overflow": null,
            "overflow_x": null,
            "overflow_y": null,
            "padding": null,
            "right": null,
            "top": null,
            "visibility": null,
            "width": null
          }
        },
        "2870d1f79d0a4c269b2013c5ae04207e": {
          "model_module": "@jupyter-widgets/base",
          "model_name": "LayoutModel",
          "model_module_version": "1.2.0",
          "state": {
            "_model_module": "@jupyter-widgets/base",
            "_model_module_version": "1.2.0",
            "_model_name": "LayoutModel",
            "_view_count": null,
            "_view_module": "@jupyter-widgets/base",
            "_view_module_version": "1.2.0",
            "_view_name": "LayoutView",
            "align_content": null,
            "align_items": null,
            "align_self": null,
            "border": null,
            "bottom": null,
            "display": null,
            "flex": null,
            "flex_flow": null,
            "grid_area": null,
            "grid_auto_columns": null,
            "grid_auto_flow": null,
            "grid_auto_rows": null,
            "grid_column": null,
            "grid_gap": null,
            "grid_row": null,
            "grid_template_areas": null,
            "grid_template_columns": null,
            "grid_template_rows": null,
            "height": null,
            "justify_content": null,
            "justify_items": null,
            "left": null,
            "margin": null,
            "max_height": null,
            "max_width": null,
            "min_height": null,
            "min_width": null,
            "object_fit": null,
            "object_position": null,
            "order": null,
            "overflow": null,
            "overflow_x": null,
            "overflow_y": null,
            "padding": null,
            "right": null,
            "top": null,
            "visibility": null,
            "width": null
          }
        },
        "e18cd0870770401998906f5ae942656c": {
          "model_module": "@jupyter-widgets/controls",
          "model_name": "DescriptionStyleModel",
          "model_module_version": "1.5.0",
          "state": {
            "_model_module": "@jupyter-widgets/controls",
            "_model_module_version": "1.5.0",
            "_model_name": "DescriptionStyleModel",
            "_view_count": null,
            "_view_module": "@jupyter-widgets/base",
            "_view_module_version": "1.2.0",
            "_view_name": "StyleView",
            "description_width": ""
          }
        },
        "07485e67417a49d1b5991cc7dd93f9ad": {
          "model_module": "@jupyter-widgets/base",
          "model_name": "LayoutModel",
          "model_module_version": "1.2.0",
          "state": {
            "_model_module": "@jupyter-widgets/base",
            "_model_module_version": "1.2.0",
            "_model_name": "LayoutModel",
            "_view_count": null,
            "_view_module": "@jupyter-widgets/base",
            "_view_module_version": "1.2.0",
            "_view_name": "LayoutView",
            "align_content": null,
            "align_items": null,
            "align_self": null,
            "border": null,
            "bottom": null,
            "display": null,
            "flex": null,
            "flex_flow": null,
            "grid_area": null,
            "grid_auto_columns": null,
            "grid_auto_flow": null,
            "grid_auto_rows": null,
            "grid_column": null,
            "grid_gap": null,
            "grid_row": null,
            "grid_template_areas": null,
            "grid_template_columns": null,
            "grid_template_rows": null,
            "height": null,
            "justify_content": null,
            "justify_items": null,
            "left": null,
            "margin": null,
            "max_height": null,
            "max_width": null,
            "min_height": null,
            "min_width": null,
            "object_fit": null,
            "object_position": null,
            "order": null,
            "overflow": null,
            "overflow_x": null,
            "overflow_y": null,
            "padding": null,
            "right": null,
            "top": null,
            "visibility": null,
            "width": null
          }
        },
        "796a8f17426d47b2a98f4c4b114449d9": {
          "model_module": "@jupyter-widgets/controls",
          "model_name": "ProgressStyleModel",
          "model_module_version": "1.5.0",
          "state": {
            "_model_module": "@jupyter-widgets/controls",
            "_model_module_version": "1.5.0",
            "_model_name": "ProgressStyleModel",
            "_view_count": null,
            "_view_module": "@jupyter-widgets/base",
            "_view_module_version": "1.2.0",
            "_view_name": "StyleView",
            "bar_color": null,
            "description_width": ""
          }
        },
        "2c974a4d736e4e0aa8fb2e1df8dfaeab": {
          "model_module": "@jupyter-widgets/base",
          "model_name": "LayoutModel",
          "model_module_version": "1.2.0",
          "state": {
            "_model_module": "@jupyter-widgets/base",
            "_model_module_version": "1.2.0",
            "_model_name": "LayoutModel",
            "_view_count": null,
            "_view_module": "@jupyter-widgets/base",
            "_view_module_version": "1.2.0",
            "_view_name": "LayoutView",
            "align_content": null,
            "align_items": null,
            "align_self": null,
            "border": null,
            "bottom": null,
            "display": null,
            "flex": null,
            "flex_flow": null,
            "grid_area": null,
            "grid_auto_columns": null,
            "grid_auto_flow": null,
            "grid_auto_rows": null,
            "grid_column": null,
            "grid_gap": null,
            "grid_row": null,
            "grid_template_areas": null,
            "grid_template_columns": null,
            "grid_template_rows": null,
            "height": null,
            "justify_content": null,
            "justify_items": null,
            "left": null,
            "margin": null,
            "max_height": null,
            "max_width": null,
            "min_height": null,
            "min_width": null,
            "object_fit": null,
            "object_position": null,
            "order": null,
            "overflow": null,
            "overflow_x": null,
            "overflow_y": null,
            "padding": null,
            "right": null,
            "top": null,
            "visibility": null,
            "width": null
          }
        },
        "295f636c11ec4986ba5e6881d72dfd18": {
          "model_module": "@jupyter-widgets/controls",
          "model_name": "DescriptionStyleModel",
          "model_module_version": "1.5.0",
          "state": {
            "_model_module": "@jupyter-widgets/controls",
            "_model_module_version": "1.5.0",
            "_model_name": "DescriptionStyleModel",
            "_view_count": null,
            "_view_module": "@jupyter-widgets/base",
            "_view_module_version": "1.2.0",
            "_view_name": "StyleView",
            "description_width": ""
          }
        },
        "36ff5032b1794d7da83f50b83b6a1028": {
          "model_module": "@jupyter-widgets/controls",
          "model_name": "HBoxModel",
          "model_module_version": "1.5.0",
          "state": {
            "_dom_classes": [],
            "_model_module": "@jupyter-widgets/controls",
            "_model_module_version": "1.5.0",
            "_model_name": "HBoxModel",
            "_view_count": null,
            "_view_module": "@jupyter-widgets/controls",
            "_view_module_version": "1.5.0",
            "_view_name": "HBoxView",
            "box_style": "",
            "children": [
              "IPY_MODEL_be485e1609a8482b88f3df0e2f2a5b95",
              "IPY_MODEL_ad1f4688080140b2a20cbf1f6181799e",
              "IPY_MODEL_31502d43ca5a45d0b70dc48e0ced499b"
            ],
            "layout": "IPY_MODEL_5365579db72b479f90d9685ecdc74147"
          }
        },
        "be485e1609a8482b88f3df0e2f2a5b95": {
          "model_module": "@jupyter-widgets/controls",
          "model_name": "HTMLModel",
          "model_module_version": "1.5.0",
          "state": {
            "_dom_classes": [],
            "_model_module": "@jupyter-widgets/controls",
            "_model_module_version": "1.5.0",
            "_model_name": "HTMLModel",
            "_view_count": null,
            "_view_module": "@jupyter-widgets/controls",
            "_view_module_version": "1.5.0",
            "_view_name": "HTMLView",
            "description": "",
            "description_tooltip": null,
            "layout": "IPY_MODEL_7411adacb2f3470ab8263e0c06cefa82",
            "placeholder": "​",
            "style": "IPY_MODEL_0df0ccdf19e94451b4145bd87c5f69e8",
            "value": "Downloading: 100%"
          }
        },
        "ad1f4688080140b2a20cbf1f6181799e": {
          "model_module": "@jupyter-widgets/controls",
          "model_name": "FloatProgressModel",
          "model_module_version": "1.5.0",
          "state": {
            "_dom_classes": [],
            "_model_module": "@jupyter-widgets/controls",
            "_model_module_version": "1.5.0",
            "_model_name": "FloatProgressModel",
            "_view_count": null,
            "_view_module": "@jupyter-widgets/controls",
            "_view_module_version": "1.5.0",
            "_view_name": "ProgressView",
            "bar_style": "success",
            "description": "",
            "description_tooltip": null,
            "layout": "IPY_MODEL_44e1d7882c7b42309ef68716b3e6196a",
            "max": 1000,
            "min": 0,
            "orientation": "horizontal",
            "style": "IPY_MODEL_03afb31c12ce4f16ae09aed113841922",
            "value": 1000
          }
        },
        "31502d43ca5a45d0b70dc48e0ced499b": {
          "model_module": "@jupyter-widgets/controls",
          "model_name": "HTMLModel",
          "model_module_version": "1.5.0",
          "state": {
            "_dom_classes": [],
            "_model_module": "@jupyter-widgets/controls",
            "_model_module_version": "1.5.0",
            "_model_name": "HTMLModel",
            "_view_count": null,
            "_view_module": "@jupyter-widgets/controls",
            "_view_module_version": "1.5.0",
            "_view_name": "HTMLView",
            "description": "",
            "description_tooltip": null,
            "layout": "IPY_MODEL_f35e313cc3734264bfb68116284cda4d",
            "placeholder": "​",
            "style": "IPY_MODEL_7a3085ace50b4999b8484a02ee6d574b",
            "value": " 1.00k/1.00k [00:00&lt;00:00, 40.8kB/s]"
          }
        },
        "5365579db72b479f90d9685ecdc74147": {
          "model_module": "@jupyter-widgets/base",
          "model_name": "LayoutModel",
          "model_module_version": "1.2.0",
          "state": {
            "_model_module": "@jupyter-widgets/base",
            "_model_module_version": "1.2.0",
            "_model_name": "LayoutModel",
            "_view_count": null,
            "_view_module": "@jupyter-widgets/base",
            "_view_module_version": "1.2.0",
            "_view_name": "LayoutView",
            "align_content": null,
            "align_items": null,
            "align_self": null,
            "border": null,
            "bottom": null,
            "display": null,
            "flex": null,
            "flex_flow": null,
            "grid_area": null,
            "grid_auto_columns": null,
            "grid_auto_flow": null,
            "grid_auto_rows": null,
            "grid_column": null,
            "grid_gap": null,
            "grid_row": null,
            "grid_template_areas": null,
            "grid_template_columns": null,
            "grid_template_rows": null,
            "height": null,
            "justify_content": null,
            "justify_items": null,
            "left": null,
            "margin": null,
            "max_height": null,
            "max_width": null,
            "min_height": null,
            "min_width": null,
            "object_fit": null,
            "object_position": null,
            "order": null,
            "overflow": null,
            "overflow_x": null,
            "overflow_y": null,
            "padding": null,
            "right": null,
            "top": null,
            "visibility": null,
            "width": null
          }
        },
        "7411adacb2f3470ab8263e0c06cefa82": {
          "model_module": "@jupyter-widgets/base",
          "model_name": "LayoutModel",
          "model_module_version": "1.2.0",
          "state": {
            "_model_module": "@jupyter-widgets/base",
            "_model_module_version": "1.2.0",
            "_model_name": "LayoutModel",
            "_view_count": null,
            "_view_module": "@jupyter-widgets/base",
            "_view_module_version": "1.2.0",
            "_view_name": "LayoutView",
            "align_content": null,
            "align_items": null,
            "align_self": null,
            "border": null,
            "bottom": null,
            "display": null,
            "flex": null,
            "flex_flow": null,
            "grid_area": null,
            "grid_auto_columns": null,
            "grid_auto_flow": null,
            "grid_auto_rows": null,
            "grid_column": null,
            "grid_gap": null,
            "grid_row": null,
            "grid_template_areas": null,
            "grid_template_columns": null,
            "grid_template_rows": null,
            "height": null,
            "justify_content": null,
            "justify_items": null,
            "left": null,
            "margin": null,
            "max_height": null,
            "max_width": null,
            "min_height": null,
            "min_width": null,
            "object_fit": null,
            "object_position": null,
            "order": null,
            "overflow": null,
            "overflow_x": null,
            "overflow_y": null,
            "padding": null,
            "right": null,
            "top": null,
            "visibility": null,
            "width": null
          }
        },
        "0df0ccdf19e94451b4145bd87c5f69e8": {
          "model_module": "@jupyter-widgets/controls",
          "model_name": "DescriptionStyleModel",
          "model_module_version": "1.5.0",
          "state": {
            "_model_module": "@jupyter-widgets/controls",
            "_model_module_version": "1.5.0",
            "_model_name": "DescriptionStyleModel",
            "_view_count": null,
            "_view_module": "@jupyter-widgets/base",
            "_view_module_version": "1.2.0",
            "_view_name": "StyleView",
            "description_width": ""
          }
        },
        "44e1d7882c7b42309ef68716b3e6196a": {
          "model_module": "@jupyter-widgets/base",
          "model_name": "LayoutModel",
          "model_module_version": "1.2.0",
          "state": {
            "_model_module": "@jupyter-widgets/base",
            "_model_module_version": "1.2.0",
            "_model_name": "LayoutModel",
            "_view_count": null,
            "_view_module": "@jupyter-widgets/base",
            "_view_module_version": "1.2.0",
            "_view_name": "LayoutView",
            "align_content": null,
            "align_items": null,
            "align_self": null,
            "border": null,
            "bottom": null,
            "display": null,
            "flex": null,
            "flex_flow": null,
            "grid_area": null,
            "grid_auto_columns": null,
            "grid_auto_flow": null,
            "grid_auto_rows": null,
            "grid_column": null,
            "grid_gap": null,
            "grid_row": null,
            "grid_template_areas": null,
            "grid_template_columns": null,
            "grid_template_rows": null,
            "height": null,
            "justify_content": null,
            "justify_items": null,
            "left": null,
            "margin": null,
            "max_height": null,
            "max_width": null,
            "min_height": null,
            "min_width": null,
            "object_fit": null,
            "object_position": null,
            "order": null,
            "overflow": null,
            "overflow_x": null,
            "overflow_y": null,
            "padding": null,
            "right": null,
            "top": null,
            "visibility": null,
            "width": null
          }
        },
        "03afb31c12ce4f16ae09aed113841922": {
          "model_module": "@jupyter-widgets/controls",
          "model_name": "ProgressStyleModel",
          "model_module_version": "1.5.0",
          "state": {
            "_model_module": "@jupyter-widgets/controls",
            "_model_module_version": "1.5.0",
            "_model_name": "ProgressStyleModel",
            "_view_count": null,
            "_view_module": "@jupyter-widgets/base",
            "_view_module_version": "1.2.0",
            "_view_name": "StyleView",
            "bar_color": null,
            "description_width": ""
          }
        },
        "f35e313cc3734264bfb68116284cda4d": {
          "model_module": "@jupyter-widgets/base",
          "model_name": "LayoutModel",
          "model_module_version": "1.2.0",
          "state": {
            "_model_module": "@jupyter-widgets/base",
            "_model_module_version": "1.2.0",
            "_model_name": "LayoutModel",
            "_view_count": null,
            "_view_module": "@jupyter-widgets/base",
            "_view_module_version": "1.2.0",
            "_view_name": "LayoutView",
            "align_content": null,
            "align_items": null,
            "align_self": null,
            "border": null,
            "bottom": null,
            "display": null,
            "flex": null,
            "flex_flow": null,
            "grid_area": null,
            "grid_auto_columns": null,
            "grid_auto_flow": null,
            "grid_auto_rows": null,
            "grid_column": null,
            "grid_gap": null,
            "grid_row": null,
            "grid_template_areas": null,
            "grid_template_columns": null,
            "grid_template_rows": null,
            "height": null,
            "justify_content": null,
            "justify_items": null,
            "left": null,
            "margin": null,
            "max_height": null,
            "max_width": null,
            "min_height": null,
            "min_width": null,
            "object_fit": null,
            "object_position": null,
            "order": null,
            "overflow": null,
            "overflow_x": null,
            "overflow_y": null,
            "padding": null,
            "right": null,
            "top": null,
            "visibility": null,
            "width": null
          }
        },
        "7a3085ace50b4999b8484a02ee6d574b": {
          "model_module": "@jupyter-widgets/controls",
          "model_name": "DescriptionStyleModel",
          "model_module_version": "1.5.0",
          "state": {
            "_model_module": "@jupyter-widgets/controls",
            "_model_module_version": "1.5.0",
            "_model_name": "DescriptionStyleModel",
            "_view_count": null,
            "_view_module": "@jupyter-widgets/base",
            "_view_module_version": "1.2.0",
            "_view_name": "StyleView",
            "description_width": ""
          }
        },
        "06731cf712ea4e1ca8102ef493ad3d7b": {
          "model_module": "@jupyter-widgets/controls",
          "model_name": "HBoxModel",
          "model_module_version": "1.5.0",
          "state": {
            "_dom_classes": [],
            "_model_module": "@jupyter-widgets/controls",
            "_model_module_version": "1.5.0",
            "_model_name": "HBoxModel",
            "_view_count": null,
            "_view_module": "@jupyter-widgets/controls",
            "_view_module_version": "1.5.0",
            "_view_name": "HBoxView",
            "box_style": "",
            "children": [
              "IPY_MODEL_ecdddbfa4053423c8144e3a9f6b87bf3",
              "IPY_MODEL_f55b22ff46da49e2b9fd805bb3cd6cd3",
              "IPY_MODEL_70caf097c22e4729a849c7bfea8d7c35"
            ],
            "layout": "IPY_MODEL_349af36cef2c40329b54da9b5abf20be"
          }
        },
        "ecdddbfa4053423c8144e3a9f6b87bf3": {
          "model_module": "@jupyter-widgets/controls",
          "model_name": "HTMLModel",
          "model_module_version": "1.5.0",
          "state": {
            "_dom_classes": [],
            "_model_module": "@jupyter-widgets/controls",
            "_model_module_version": "1.5.0",
            "_model_name": "HTMLModel",
            "_view_count": null,
            "_view_module": "@jupyter-widgets/controls",
            "_view_module_version": "1.5.0",
            "_view_name": "HTMLView",
            "description": "",
            "description_tooltip": null,
            "layout": "IPY_MODEL_78309c57a9d448a5926233889db761e7",
            "placeholder": "​",
            "style": "IPY_MODEL_869107e0430f4568b223c5e319b85f3e",
            "value": "Downloading: 100%"
          }
        },
        "f55b22ff46da49e2b9fd805bb3cd6cd3": {
          "model_module": "@jupyter-widgets/controls",
          "model_name": "FloatProgressModel",
          "model_module_version": "1.5.0",
          "state": {
            "_dom_classes": [],
            "_model_module": "@jupyter-widgets/controls",
            "_model_module_version": "1.5.0",
            "_model_name": "FloatProgressModel",
            "_view_count": null,
            "_view_module": "@jupyter-widgets/controls",
            "_view_module_version": "1.5.0",
            "_view_name": "ProgressView",
            "bar_style": "success",
            "description": "",
            "description_tooltip": null,
            "layout": "IPY_MODEL_595929dc195449c5b76c630716d07135",
            "max": 513302779,
            "min": 0,
            "orientation": "horizontal",
            "style": "IPY_MODEL_e424ba393b9f44119c3d429ab82ce936",
            "value": 513302779
          }
        },
        "70caf097c22e4729a849c7bfea8d7c35": {
          "model_module": "@jupyter-widgets/controls",
          "model_name": "HTMLModel",
          "model_module_version": "1.5.0",
          "state": {
            "_dom_classes": [],
            "_model_module": "@jupyter-widgets/controls",
            "_model_module_version": "1.5.0",
            "_model_name": "HTMLModel",
            "_view_count": null,
            "_view_module": "@jupyter-widgets/controls",
            "_view_module_version": "1.5.0",
            "_view_name": "HTMLView",
            "description": "",
            "description_tooltip": null,
            "layout": "IPY_MODEL_e6a3ee1c1dbe42fdaae7a0d69d348f3d",
            "placeholder": "​",
            "style": "IPY_MODEL_088c7fe8517643c09348444dd8ac1a51",
            "value": " 513M/513M [00:21&lt;00:00, 23.2MB/s]"
          }
        },
        "349af36cef2c40329b54da9b5abf20be": {
          "model_module": "@jupyter-widgets/base",
          "model_name": "LayoutModel",
          "model_module_version": "1.2.0",
          "state": {
            "_model_module": "@jupyter-widgets/base",
            "_model_module_version": "1.2.0",
            "_model_name": "LayoutModel",
            "_view_count": null,
            "_view_module": "@jupyter-widgets/base",
            "_view_module_version": "1.2.0",
            "_view_name": "LayoutView",
            "align_content": null,
            "align_items": null,
            "align_self": null,
            "border": null,
            "bottom": null,
            "display": null,
            "flex": null,
            "flex_flow": null,
            "grid_area": null,
            "grid_auto_columns": null,
            "grid_auto_flow": null,
            "grid_auto_rows": null,
            "grid_column": null,
            "grid_gap": null,
            "grid_row": null,
            "grid_template_areas": null,
            "grid_template_columns": null,
            "grid_template_rows": null,
            "height": null,
            "justify_content": null,
            "justify_items": null,
            "left": null,
            "margin": null,
            "max_height": null,
            "max_width": null,
            "min_height": null,
            "min_width": null,
            "object_fit": null,
            "object_position": null,
            "order": null,
            "overflow": null,
            "overflow_x": null,
            "overflow_y": null,
            "padding": null,
            "right": null,
            "top": null,
            "visibility": null,
            "width": null
          }
        },
        "78309c57a9d448a5926233889db761e7": {
          "model_module": "@jupyter-widgets/base",
          "model_name": "LayoutModel",
          "model_module_version": "1.2.0",
          "state": {
            "_model_module": "@jupyter-widgets/base",
            "_model_module_version": "1.2.0",
            "_model_name": "LayoutModel",
            "_view_count": null,
            "_view_module": "@jupyter-widgets/base",
            "_view_module_version": "1.2.0",
            "_view_name": "LayoutView",
            "align_content": null,
            "align_items": null,
            "align_self": null,
            "border": null,
            "bottom": null,
            "display": null,
            "flex": null,
            "flex_flow": null,
            "grid_area": null,
            "grid_auto_columns": null,
            "grid_auto_flow": null,
            "grid_auto_rows": null,
            "grid_column": null,
            "grid_gap": null,
            "grid_row": null,
            "grid_template_areas": null,
            "grid_template_columns": null,
            "grid_template_rows": null,
            "height": null,
            "justify_content": null,
            "justify_items": null,
            "left": null,
            "margin": null,
            "max_height": null,
            "max_width": null,
            "min_height": null,
            "min_width": null,
            "object_fit": null,
            "object_position": null,
            "order": null,
            "overflow": null,
            "overflow_x": null,
            "overflow_y": null,
            "padding": null,
            "right": null,
            "top": null,
            "visibility": null,
            "width": null
          }
        },
        "869107e0430f4568b223c5e319b85f3e": {
          "model_module": "@jupyter-widgets/controls",
          "model_name": "DescriptionStyleModel",
          "model_module_version": "1.5.0",
          "state": {
            "_model_module": "@jupyter-widgets/controls",
            "_model_module_version": "1.5.0",
            "_model_name": "DescriptionStyleModel",
            "_view_count": null,
            "_view_module": "@jupyter-widgets/base",
            "_view_module_version": "1.2.0",
            "_view_name": "StyleView",
            "description_width": ""
          }
        },
        "595929dc195449c5b76c630716d07135": {
          "model_module": "@jupyter-widgets/base",
          "model_name": "LayoutModel",
          "model_module_version": "1.2.0",
          "state": {
            "_model_module": "@jupyter-widgets/base",
            "_model_module_version": "1.2.0",
            "_model_name": "LayoutModel",
            "_view_count": null,
            "_view_module": "@jupyter-widgets/base",
            "_view_module_version": "1.2.0",
            "_view_name": "LayoutView",
            "align_content": null,
            "align_items": null,
            "align_self": null,
            "border": null,
            "bottom": null,
            "display": null,
            "flex": null,
            "flex_flow": null,
            "grid_area": null,
            "grid_auto_columns": null,
            "grid_auto_flow": null,
            "grid_auto_rows": null,
            "grid_column": null,
            "grid_gap": null,
            "grid_row": null,
            "grid_template_areas": null,
            "grid_template_columns": null,
            "grid_template_rows": null,
            "height": null,
            "justify_content": null,
            "justify_items": null,
            "left": null,
            "margin": null,
            "max_height": null,
            "max_width": null,
            "min_height": null,
            "min_width": null,
            "object_fit": null,
            "object_position": null,
            "order": null,
            "overflow": null,
            "overflow_x": null,
            "overflow_y": null,
            "padding": null,
            "right": null,
            "top": null,
            "visibility": null,
            "width": null
          }
        },
        "e424ba393b9f44119c3d429ab82ce936": {
          "model_module": "@jupyter-widgets/controls",
          "model_name": "ProgressStyleModel",
          "model_module_version": "1.5.0",
          "state": {
            "_model_module": "@jupyter-widgets/controls",
            "_model_module_version": "1.5.0",
            "_model_name": "ProgressStyleModel",
            "_view_count": null,
            "_view_module": "@jupyter-widgets/base",
            "_view_module_version": "1.2.0",
            "_view_name": "StyleView",
            "bar_color": null,
            "description_width": ""
          }
        },
        "e6a3ee1c1dbe42fdaae7a0d69d348f3d": {
          "model_module": "@jupyter-widgets/base",
          "model_name": "LayoutModel",
          "model_module_version": "1.2.0",
          "state": {
            "_model_module": "@jupyter-widgets/base",
            "_model_module_version": "1.2.0",
            "_model_name": "LayoutModel",
            "_view_count": null,
            "_view_module": "@jupyter-widgets/base",
            "_view_module_version": "1.2.0",
            "_view_name": "LayoutView",
            "align_content": null,
            "align_items": null,
            "align_self": null,
            "border": null,
            "bottom": null,
            "display": null,
            "flex": null,
            "flex_flow": null,
            "grid_area": null,
            "grid_auto_columns": null,
            "grid_auto_flow": null,
            "grid_auto_rows": null,
            "grid_column": null,
            "grid_gap": null,
            "grid_row": null,
            "grid_template_areas": null,
            "grid_template_columns": null,
            "grid_template_rows": null,
            "height": null,
            "justify_content": null,
            "justify_items": null,
            "left": null,
            "margin": null,
            "max_height": null,
            "max_width": null,
            "min_height": null,
            "min_width": null,
            "object_fit": null,
            "object_position": null,
            "order": null,
            "overflow": null,
            "overflow_x": null,
            "overflow_y": null,
            "padding": null,
            "right": null,
            "top": null,
            "visibility": null,
            "width": null
          }
        },
        "088c7fe8517643c09348444dd8ac1a51": {
          "model_module": "@jupyter-widgets/controls",
          "model_name": "DescriptionStyleModel",
          "model_module_version": "1.5.0",
          "state": {
            "_model_module": "@jupyter-widgets/controls",
            "_model_module_version": "1.5.0",
            "_model_name": "DescriptionStyleModel",
            "_view_count": null,
            "_view_module": "@jupyter-widgets/base",
            "_view_module_version": "1.2.0",
            "_view_name": "StyleView",
            "description_width": ""
          }
        }
      }
    },
    "accelerator": "GPU",
    "gpuClass": "standard"
  },
  "cells": [
    {
      "cell_type": "markdown",
      "metadata": {
        "id": "view-in-github",
        "colab_type": "text"
      },
      "source": [
        "<a href=\"https://colab.research.google.com/github/Pointsh/NLP/blob/main/ChatBot.ipynb\" target=\"_parent\"><img src=\"https://colab.research.google.com/assets/colab-badge.svg\" alt=\"Open In Colab\"/></a>"
      ]
    },
    {
      "cell_type": "markdown",
      "source": [
        "# Procject ChatBot\n",
        "이번에는 chatbot을 구현했던 것을 정리해보려합니다.\n",
        "koGPT2를 통해 구현했으며 오늘은 코랩을\n",
        "통해 코드 내부에서 설명도 하고 \n",
        "추가적으로 내용도 적어보겠습니다."
      ],
      "metadata": {
        "id": "obiaWvKYR5Mh"
      }
    },
    {
      "cell_type": "code",
      "source": [
        "import numpy as np\n",
        "import pandas as pd\n",
        "import torch\n",
        "from pytorch_lightning import Trainer\n",
        "from pytorch_lightning.callbacks import ModelCheckpoint\n",
        "from pytorch_lightning.core.lightning import LightningModule\n",
        "from torch.utils.data import DataLoader, Dataset\n",
        "from transformers.optimization import AdamW, get_cosine_schedule_with_warmup\n",
        "from transformers import PreTrainedTokenizerFast, GPT2LMHeadModel\n",
        "import re"
      ],
      "metadata": {
        "id": "7HCJPABx4-HO"
      },
      "execution_count": null,
      "outputs": []
    },
    {
      "cell_type": "code",
      "source": [
        "Q_TKN = \"<usr>\"\n",
        "A_TKN = \"<sys>\"\n",
        "BOS = '</s>'\n",
        "EOS = '</s>'\n",
        "MASK = '<unused0>'\n",
        "SENT = '<unused1>'\n",
        "PAD = '<pad>'"
      ],
      "metadata": {
        "id": "Wy3wj1ak4uNY"
      },
      "execution_count": null,
      "outputs": []
    },
    {
      "cell_type": "markdown",
      "source": [
        "![image.png](data:image/png;base64,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)"
      ],
      "metadata": {
        "id": "mMJxh60VOqAy"
      }
    },
    {
      "cell_type": "markdown",
      "source": [
        "* 스페셜 토큰들의 설명을 다음과 같습니다.\n",
        "* 데이터 Q필드를 < usr >발화, A필드를 < sys >발화 그리고 감정 레이블을 < sent >로 매핑해 P(< sys >|< usr >,< sent >)를 최대화 할 수 있는 모델을 학습시킵니다."
      ],
      "metadata": {
        "id": "bF_CIb-nO2_h"
      }
    },
    {
      "cell_type": "markdown",
      "source": [
        "* 이후 huggingface transformer에 등록된 사전 학습된 koGPT2 model과 tokenizer를 가져옵니다."
      ],
      "metadata": {
        "id": "-Ce_aXadPbTJ"
      }
    },
    {
      "cell_type": "code",
      "source": [
        "koGPT2_TOKENIZER = PreTrainedTokenizerFast.from_pretrained(\"skt/kogpt2-base-v2\",\n",
        "            bos_token=BOS, eos_token=EOS, unk_token='<unk>',\n",
        "            pad_token=PAD, mask_token=MASK) \n",
        "model = GPT2LMHeadModel.from_pretrained('skt/kogpt2-base-v2')"
      ],
      "metadata": {
        "colab": {
          "base_uri": "https://localhost:8080/",
          "height": 168,
          "referenced_widgets": [
            "529d0bd240124ad0996beb37b84df0c4",
            "a4409363d601444080dc231d66ac04f9",
            "2f1d96ea89f64c02859f552513f82569",
            "2009ae2d8659480ba38e2b52bd50b785",
            "99fd91bd21dc424cb125b8bf82103060",
            "2870d1f79d0a4c269b2013c5ae04207e",
            "e18cd0870770401998906f5ae942656c",
            "07485e67417a49d1b5991cc7dd93f9ad",
            "796a8f17426d47b2a98f4c4b114449d9",
            "2c974a4d736e4e0aa8fb2e1df8dfaeab",
            "295f636c11ec4986ba5e6881d72dfd18",
            "36ff5032b1794d7da83f50b83b6a1028",
            "be485e1609a8482b88f3df0e2f2a5b95",
            "ad1f4688080140b2a20cbf1f6181799e",
            "31502d43ca5a45d0b70dc48e0ced499b",
            "5365579db72b479f90d9685ecdc74147",
            "7411adacb2f3470ab8263e0c06cefa82",
            "0df0ccdf19e94451b4145bd87c5f69e8",
            "44e1d7882c7b42309ef68716b3e6196a",
            "03afb31c12ce4f16ae09aed113841922",
            "f35e313cc3734264bfb68116284cda4d",
            "7a3085ace50b4999b8484a02ee6d574b",
            "06731cf712ea4e1ca8102ef493ad3d7b",
            "ecdddbfa4053423c8144e3a9f6b87bf3",
            "f55b22ff46da49e2b9fd805bb3cd6cd3",
            "70caf097c22e4729a849c7bfea8d7c35",
            "349af36cef2c40329b54da9b5abf20be",
            "78309c57a9d448a5926233889db761e7",
            "869107e0430f4568b223c5e319b85f3e",
            "595929dc195449c5b76c630716d07135",
            "e424ba393b9f44119c3d429ab82ce936",
            "e6a3ee1c1dbe42fdaae7a0d69d348f3d",
            "088c7fe8517643c09348444dd8ac1a51"
          ]
        },
        "id": "VVD1JqTJ40I9",
        "outputId": "6a656759-517c-44ff-82b3-e6bd8ac9a58d"
      },
      "execution_count": null,
      "outputs": [
        {
          "output_type": "display_data",
          "data": {
            "text/plain": [
              "Downloading:   0%|          | 0.00/2.83M [00:00<?, ?B/s]"
            ],
            "application/vnd.jupyter.widget-view+json": {
              "version_major": 2,
              "version_minor": 0,
              "model_id": "529d0bd240124ad0996beb37b84df0c4"
            }
          },
          "metadata": {}
        },
        {
          "output_type": "display_data",
          "data": {
            "text/plain": [
              "Downloading:   0%|          | 0.00/1.00k [00:00<?, ?B/s]"
            ],
            "application/vnd.jupyter.widget-view+json": {
              "version_major": 2,
              "version_minor": 0,
              "model_id": "36ff5032b1794d7da83f50b83b6a1028"
            }
          },
          "metadata": {}
        },
        {
          "output_type": "stream",
          "name": "stderr",
          "text": [
            "The tokenizer class you load from this checkpoint is not the same type as the class this function is called from. It may result in unexpected tokenization. \n",
            "The tokenizer class you load from this checkpoint is 'GPT2Tokenizer'. \n",
            "The class this function is called from is 'PreTrainedTokenizerFast'.\n"
          ]
        },
        {
          "output_type": "display_data",
          "data": {
            "text/plain": [
              "Downloading:   0%|          | 0.00/513M [00:00<?, ?B/s]"
            ],
            "application/vnd.jupyter.widget-view+json": {
              "version_major": 2,
              "version_minor": 0,
              "model_id": "06731cf712ea4e1ca8102ef493ad3d7b"
            }
          },
          "metadata": {}
        }
      ]
    },
    {
      "cell_type": "code",
      "source": [
        "# 챗봇 데이터를 처리하는 클래스를 만든다.\n",
        "class ChatbotDataset(Dataset):\n",
        "    def __init__(self, chats, max_len=40):  # 데이터셋의 전처리를 해주는 부분\n",
        "        self._data = chats\n",
        "        self.max_len = max_len\n",
        "        self.q_token = Q_TKN\n",
        "        self.a_token = A_TKN\n",
        "        self.sent_token = SENT\n",
        "        self.eos = EOS\n",
        "        self.mask = MASK\n",
        "        self.tokenizer = koGPT2_TOKENIZER\n",
        "\n",
        "    def __len__(self):  # chatbotdata 의 길이를 리턴한다.\n",
        "        return len(self._data)\n",
        "\n",
        "    def __getitem__(self, idx):  # 로드한 챗봇 데이터를 차례차례 DataLoader로 넘겨주는 메서드\n",
        "        turn = self._data.iloc[idx]\n",
        "        q = turn[\"Q\"]  # 질문을 가져온다.\n",
        "        q = re.sub(r\"([?.!,])\", r\" \", q)  # 구둣점들을 제거한다.\n",
        "\n",
        "        a = turn[\"A\"]  # 답변을 가져온다.\n",
        "        a = re.sub(r\"([?.!,])\", r\" \", a)  # 구둣점들을 제거한다.\n",
        "\n",
        "        q_toked = self.tokenizer.tokenize(self.q_token + q + self.sent_token)\n",
        "        q_len = len(q_toked)\n",
        "\n",
        "        a_toked = self.tokenizer.tokenize(self.a_token + a + self.eos)\n",
        "        a_len = len(a_toked)\n",
        "\n",
        "        #질문의 길이가 최대길이보다 크면\n",
        "        if q_len > self.max_len:\n",
        "            a_len = self.max_len - q_len        #답변의 길이를 최대길이 - 질문길이\n",
        "            if a_len <= 0:       #질문의 길이가 너무 길어 질문만으로 최대 길이를 초과 한다면\n",
        "                q_toked = q_toked[-(int(self.max_len / 2)) :]   #질문길이를 최대길이의 반으로 \n",
        "                q_len = len(q_toked)\n",
        "                a_len = self.max_len - q_len              #답변의 길이를 최대길이 - 질문길이\n",
        "            a_toked = a_toked[:a_len]\n",
        "            a_len = len(a_toked)\n",
        "\n",
        "        #질문의 길이 + 답변의 길이가 최대길이보다 크면\n",
        "        if q_len + a_len > self.max_len:\n",
        "            a_len = self.max_len - q_len        #답변의 길이를 최대길이 - 질문길이\n",
        "            if a_len <= 0:       #질문의 길이가 너무 길어 질문만으로 최대 길이를 초과 한다면\n",
        "                q_toked = q_toked[-(int(self.max_len / 2)) :]   #질문길이를 최대길이의 반으로 \n",
        "                q_len = len(q_toked)\n",
        "                a_len = self.max_len - q_len              #답변의 길이를 최대길이 - 질문길이\n",
        "            a_toked = a_toked[:a_len]\n",
        "            a_len = len(a_toked)\n",
        "\n",
        "        # 답변 labels = [mask, mask, ...., mask, ..., <bos>,..답변.. <eos>, <pad>....]\n",
        "        labels = [self.mask,] * q_len + a_toked[1:]\n",
        "\n",
        "        # mask = 질문길이 0 + 답변길이 1 + 나머지 0\n",
        "        mask = [0] * q_len + [1] * a_len + [0] * (self.max_len - q_len - a_len)\n",
        "        # 답변 labels을 index 로 만든다.\n",
        "        labels_ids = self.tokenizer.convert_tokens_to_ids(labels)\n",
        "        # 최대길이만큼 PADDING\n",
        "        while len(labels_ids) < self.max_len:\n",
        "            labels_ids += [self.tokenizer.pad_token_id]\n",
        "\n",
        "        # 질문 + 답변을 index 로 만든다.    \n",
        "        token_ids = self.tokenizer.convert_tokens_to_ids(q_toked + a_toked)\n",
        "        # 최대길이만큼 PADDING\n",
        "        while len(token_ids) < self.max_len:\n",
        "            token_ids += [self.tokenizer.pad_token_id]\n",
        "\n",
        "        #질문+답변, 마스크, 답변\n",
        "        return (token_ids, np.array(mask), labels_ids)"
      ],
      "metadata": {
        "id": "vkAHvUKP4QAn"
      },
      "execution_count": null,
      "outputs": []
    },
    {
      "cell_type": "code",
      "source": [
        "def collate_batch(batch):\n",
        "    data = [item[0] for item in batch]\n",
        "    mask = [item[1] for item in batch]\n",
        "    label = [item[2] for item in batch]\n",
        "    return torch.LongTensor(data), torch.LongTensor(mask), torch.LongTensor(label)"
      ],
      "metadata": {
        "id": "4YmgAlnB4Rgn"
      },
      "execution_count": null,
      "outputs": []
    },
    {
      "cell_type": "code",
      "source": [
        "#데이터셋 불러오는 부분\n",
        "import urllib.request\n",
        "\n",
        "urllib.request.urlretrieve(\n",
        "    \"https://raw.githubusercontent.com/songys/Chatbot_data/master/ChatbotData.csv\",\n",
        "    filename=\"ChatBotData.csv\",\n",
        ")\n",
        "Chatbot_Data = pd.read_csv(\"ChatBotData.csv\")\n",
        "\n",
        "# Test 용으로 300개 데이터만 처리한다.\n",
        "# Chatbot_Data = Chatbot_Data[:300]\n",
        "# Chatbot_Data.head(20)"
      ],
      "metadata": {
        "id": "pOuW4Tiw4TD4"
      },
      "execution_count": null,
      "outputs": []
    },
    {
      "cell_type": "code",
      "source": [
        "Chatbot_Data = pd.read_csv(\"totaldf.csv\")"
      ],
      "metadata": {
        "id": "bbnz6g_kAlYT"
      },
      "execution_count": null,
      "outputs": []
    },
    {
      "cell_type": "code",
      "source": [
        "Chatbot_Data.drop('label',axis=1,inplace=True)"
      ],
      "metadata": {
        "id": "22CmS2M8TG9A"
      },
      "execution_count": null,
      "outputs": []
    },
    {
      "cell_type": "code",
      "source": [
        "Chatbot_Data[Chatbot_Data['Q'].str.contains('점심')]"
      ],
      "metadata": {
        "colab": {
          "base_uri": "https://localhost:8080/",
          "height": 551
        },
        "id": "Dzn0ZTmwwd4m",
        "outputId": "da7e2248-e9db-42de-b7ba-9d9ec3da2896"
      },
      "execution_count": null,
      "outputs": [
        {
          "output_type": "execute_result",
          "data": {
            "text/plain": [
              "                                   Q                       A  label\n",
              "3310                     오늘 점심 뭐 먹을까               냉면은 어떠세요?      0\n",
              "3311                          오늘 점심은     날씨도 추운데 뜨끈한 국물 드세요!      0\n",
              "4116                 점심 도시락 싸는 거 귀찮다     건강을 챙긴다는 마음으로 해보세요.      0\n",
              "4117                   점심 때 은행 갔다와야지              볼 일이 있나봐요.      0\n",
              "4118                         점심 먹어야지       즐거운 시간 보내시길 바랍니다.      0\n",
              "4119                 점심 메뉴 고르는 거 힘드네          맞아요 항상 고민이 되죠.      0\n",
              "4120                     점심 메뉴 좀 골라줘  주변 분들의 얘기를 들어보는건 어떨까요?      0\n",
              "4121                      점심시간 너무 짧아             일하는 시간은 길죠.      0\n",
              "4122             점심시간에 외출하는 것도 눈치봐야돼     정말 너무하네요 개인적인 시간인데.      0\n",
              "4123                 점심시간에 외출하면 안 되나         시간안에만 온다면 가능하죠.      0\n",
              "4124                  점심시간에 은행 갔다와야지              볼 일이 있나봐요.      0\n",
              "4125                  점심시간엔 그냥 쉬고 싶어  맛난거 드시고 조금이라도 쉬셔야 할텐데.      0\n",
              "4126             점심시간이라도 마음 놓고 쉬고 싶어  맛난거 드시고 조금이라도 쉬셔야 할텐데.      0\n",
              "7700     이제 점심시간에도 너에게 카톡을 할 수가 없구나.  점심시간에 할 수 있는 다른 걸 해봐요.      1\n",
              "8008   점심시간잠깐 그녀가 저에게 했던 말들이 떠오르네~ㅠㅠ       생각을 접어두는 것도 필요해요.      1\n",
              "11002              점심시간일 텐데 카톡이 안 와.      먼저 연락을 해보는 건 어떨까요?      2"
            ],
            "text/html": [
              "\n",
              "  <div id=\"df-9c721bb5-4d96-4ceb-990a-bb6ee25215bd\">\n",
              "    <div class=\"colab-df-container\">\n",
              "      <div>\n",
              "<style scoped>\n",
              "    .dataframe tbody tr th:only-of-type {\n",
              "        vertical-align: middle;\n",
              "    }\n",
              "\n",
              "    .dataframe tbody tr th {\n",
              "        vertical-align: top;\n",
              "    }\n",
              "\n",
              "    .dataframe thead th {\n",
              "        text-align: right;\n",
              "    }\n",
              "</style>\n",
              "<table border=\"1\" class=\"dataframe\">\n",
              "  <thead>\n",
              "    <tr style=\"text-align: right;\">\n",
              "      <th></th>\n",
              "      <th>Q</th>\n",
              "      <th>A</th>\n",
              "      <th>label</th>\n",
              "    </tr>\n",
              "  </thead>\n",
              "  <tbody>\n",
              "    <tr>\n",
              "      <th>3310</th>\n",
              "      <td>오늘 점심 뭐 먹을까</td>\n",
              "      <td>냉면은 어떠세요?</td>\n",
              "      <td>0</td>\n",
              "    </tr>\n",
              "    <tr>\n",
              "      <th>3311</th>\n",
              "      <td>오늘 점심은</td>\n",
              "      <td>날씨도 추운데 뜨끈한 국물 드세요!</td>\n",
              "      <td>0</td>\n",
              "    </tr>\n",
              "    <tr>\n",
              "      <th>4116</th>\n",
              "      <td>점심 도시락 싸는 거 귀찮다</td>\n",
              "      <td>건강을 챙긴다는 마음으로 해보세요.</td>\n",
              "      <td>0</td>\n",
              "    </tr>\n",
              "    <tr>\n",
              "      <th>4117</th>\n",
              "      <td>점심 때 은행 갔다와야지</td>\n",
              "      <td>볼 일이 있나봐요.</td>\n",
              "      <td>0</td>\n",
              "    </tr>\n",
              "    <tr>\n",
              "      <th>4118</th>\n",
              "      <td>점심 먹어야지</td>\n",
              "      <td>즐거운 시간 보내시길 바랍니다.</td>\n",
              "      <td>0</td>\n",
              "    </tr>\n",
              "    <tr>\n",
              "      <th>4119</th>\n",
              "      <td>점심 메뉴 고르는 거 힘드네</td>\n",
              "      <td>맞아요 항상 고민이 되죠.</td>\n",
              "      <td>0</td>\n",
              "    </tr>\n",
              "    <tr>\n",
              "      <th>4120</th>\n",
              "      <td>점심 메뉴 좀 골라줘</td>\n",
              "      <td>주변 분들의 얘기를 들어보는건 어떨까요?</td>\n",
              "      <td>0</td>\n",
              "    </tr>\n",
              "    <tr>\n",
              "      <th>4121</th>\n",
              "      <td>점심시간 너무 짧아</td>\n",
              "      <td>일하는 시간은 길죠.</td>\n",
              "      <td>0</td>\n",
              "    </tr>\n",
              "    <tr>\n",
              "      <th>4122</th>\n",
              "      <td>점심시간에 외출하는 것도 눈치봐야돼</td>\n",
              "      <td>정말 너무하네요 개인적인 시간인데.</td>\n",
              "      <td>0</td>\n",
              "    </tr>\n",
              "    <tr>\n",
              "      <th>4123</th>\n",
              "      <td>점심시간에 외출하면 안 되나</td>\n",
              "      <td>시간안에만 온다면 가능하죠.</td>\n",
              "      <td>0</td>\n",
              "    </tr>\n",
              "    <tr>\n",
              "      <th>4124</th>\n",
              "      <td>점심시간에 은행 갔다와야지</td>\n",
              "      <td>볼 일이 있나봐요.</td>\n",
              "      <td>0</td>\n",
              "    </tr>\n",
              "    <tr>\n",
              "      <th>4125</th>\n",
              "      <td>점심시간엔 그냥 쉬고 싶어</td>\n",
              "      <td>맛난거 드시고 조금이라도 쉬셔야 할텐데.</td>\n",
              "      <td>0</td>\n",
              "    </tr>\n",
              "    <tr>\n",
              "      <th>4126</th>\n",
              "      <td>점심시간이라도 마음 놓고 쉬고 싶어</td>\n",
              "      <td>맛난거 드시고 조금이라도 쉬셔야 할텐데.</td>\n",
              "      <td>0</td>\n",
              "    </tr>\n",
              "    <tr>\n",
              "      <th>7700</th>\n",
              "      <td>이제 점심시간에도 너에게 카톡을 할 수가 없구나.</td>\n",
              "      <td>점심시간에 할 수 있는 다른 걸 해봐요.</td>\n",
              "      <td>1</td>\n",
              "    </tr>\n",
              "    <tr>\n",
              "      <th>8008</th>\n",
              "      <td>점심시간잠깐 그녀가 저에게 했던 말들이 떠오르네~ㅠㅠ</td>\n",
              "      <td>생각을 접어두는 것도 필요해요.</td>\n",
              "      <td>1</td>\n",
              "    </tr>\n",
              "    <tr>\n",
              "      <th>11002</th>\n",
              "      <td>점심시간일 텐데 카톡이 안 와.</td>\n",
              "      <td>먼저 연락을 해보는 건 어떨까요?</td>\n",
              "      <td>2</td>\n",
              "    </tr>\n",
              "  </tbody>\n",
              "</table>\n",
              "</div>\n",
              "      <button class=\"colab-df-convert\" onclick=\"convertToInteractive('df-9c721bb5-4d96-4ceb-990a-bb6ee25215bd')\"\n",
              "              title=\"Convert this dataframe to an interactive table.\"\n",
              "              style=\"display:none;\">\n",
              "        \n",
              "  <svg xmlns=\"http://www.w3.org/2000/svg\" height=\"24px\"viewBox=\"0 0 24 24\"\n",
              "       width=\"24px\">\n",
              "    <path d=\"M0 0h24v24H0V0z\" fill=\"none\"/>\n",
              "    <path d=\"M18.56 5.44l.94 2.06.94-2.06 2.06-.94-2.06-.94-.94-2.06-.94 2.06-2.06.94zm-11 1L8.5 8.5l.94-2.06 2.06-.94-2.06-.94L8.5 2.5l-.94 2.06-2.06.94zm10 10l.94 2.06.94-2.06 2.06-.94-2.06-.94-.94-2.06-.94 2.06-2.06.94z\"/><path d=\"M17.41 7.96l-1.37-1.37c-.4-.4-.92-.59-1.43-.59-.52 0-1.04.2-1.43.59L10.3 9.45l-7.72 7.72c-.78.78-.78 2.05 0 2.83L4 21.41c.39.39.9.59 1.41.59.51 0 1.02-.2 1.41-.59l7.78-7.78 2.81-2.81c.8-.78.8-2.07 0-2.86zM5.41 20L4 18.59l7.72-7.72 1.47 1.35L5.41 20z\"/>\n",
              "  </svg>\n",
              "      </button>\n",
              "      \n",
              "  <style>\n",
              "    .colab-df-container {\n",
              "      display:flex;\n",
              "      flex-wrap:wrap;\n",
              "      gap: 12px;\n",
              "    }\n",
              "\n",
              "    .colab-df-convert {\n",
              "      background-color: #E8F0FE;\n",
              "      border: none;\n",
              "      border-radius: 50%;\n",
              "      cursor: pointer;\n",
              "      display: none;\n",
              "      fill: #1967D2;\n",
              "      height: 32px;\n",
              "      padding: 0 0 0 0;\n",
              "      width: 32px;\n",
              "    }\n",
              "\n",
              "    .colab-df-convert:hover {\n",
              "      background-color: #E2EBFA;\n",
              "      box-shadow: 0px 1px 2px rgba(60, 64, 67, 0.3), 0px 1px 3px 1px rgba(60, 64, 67, 0.15);\n",
              "      fill: #174EA6;\n",
              "    }\n",
              "\n",
              "    [theme=dark] .colab-df-convert {\n",
              "      background-color: #3B4455;\n",
              "      fill: #D2E3FC;\n",
              "    }\n",
              "\n",
              "    [theme=dark] .colab-df-convert:hover {\n",
              "      background-color: #434B5C;\n",
              "      box-shadow: 0px 1px 3px 1px rgba(0, 0, 0, 0.15);\n",
              "      filter: drop-shadow(0px 1px 2px rgba(0, 0, 0, 0.3));\n",
              "      fill: #FFFFFF;\n",
              "    }\n",
              "  </style>\n",
              "\n",
              "      <script>\n",
              "        const buttonEl =\n",
              "          document.querySelector('#df-9c721bb5-4d96-4ceb-990a-bb6ee25215bd button.colab-df-convert');\n",
              "        buttonEl.style.display =\n",
              "          google.colab.kernel.accessAllowed ? 'block' : 'none';\n",
              "\n",
              "        async function convertToInteractive(key) {\n",
              "          const element = document.querySelector('#df-9c721bb5-4d96-4ceb-990a-bb6ee25215bd');\n",
              "          const dataTable =\n",
              "            await google.colab.kernel.invokeFunction('convertToInteractive',\n",
              "                                                     [key], {});\n",
              "          if (!dataTable) return;\n",
              "\n",
              "          const docLinkHtml = 'Like what you see? Visit the ' +\n",
              "            '<a target=\"_blank\" href=https://colab.research.google.com/notebooks/data_table.ipynb>data table notebook</a>'\n",
              "            + ' to learn more about interactive tables.';\n",
              "          element.innerHTML = '';\n",
              "          dataTable['output_type'] = 'display_data';\n",
              "          await google.colab.output.renderOutput(dataTable, element);\n",
              "          const docLink = document.createElement('div');\n",
              "          docLink.innerHTML = docLinkHtml;\n",
              "          element.appendChild(docLink);\n",
              "        }\n",
              "      </script>\n",
              "    </div>\n",
              "  </div>\n",
              "  "
            ]
          },
          "metadata": {},
          "execution_count": 41
        }
      ]
    },
    {
      "cell_type": "code",
      "source": [
        "Chatbot_Data.A.loc[4122]='정말 너무하네요 개인적인 시간인데.'"
      ],
      "metadata": {
        "id": "uzYA10CR-uNp"
      },
      "execution_count": null,
      "outputs": []
    },
    {
      "cell_type": "code",
      "source": [
        "Chatbot_Data.A.loc[4123]='시간안에만 온다면 가능하죠.'"
      ],
      "metadata": {
        "id": "heLvDrEh-9qK"
      },
      "execution_count": null,
      "outputs": []
    },
    {
      "cell_type": "code",
      "source": [
        "Chatbot_Data.A.loc[4119]='맞아요 항상 고민이 되죠.'"
      ],
      "metadata": {
        "colab": {
          "base_uri": "https://localhost:8080/"
        },
        "id": "3P_9PPaB-E-R",
        "outputId": "2d624e7d-e48b-4f3c-db8c-8a092532e964"
      },
      "execution_count": null,
      "outputs": [
        {
          "output_type": "stream",
          "name": "stderr",
          "text": [
            "/usr/local/lib/python3.8/dist-packages/pandas/core/indexing.py:1732: SettingWithCopyWarning: \n",
            "A value is trying to be set on a copy of a slice from a DataFrame\n",
            "\n",
            "See the caveats in the documentation: https://pandas.pydata.org/pandas-docs/stable/user_guide/indexing.html#returning-a-view-versus-a-copy\n",
            "  self._setitem_single_block(indexer, value, name)\n"
          ]
        }
      ]
    },
    {
      "cell_type": "code",
      "source": [
        "Chatbot_Data.A.loc[4119]='맞아요 항상 고민이되죠.'"
      ],
      "metadata": {
        "colab": {
          "base_uri": "https://localhost:8080/"
        },
        "id": "mSGhspDm-mGP",
        "outputId": "dac00148-93a3-4e7b-f0c1-f6bce9140d29"
      },
      "execution_count": null,
      "outputs": [
        {
          "output_type": "stream",
          "name": "stderr",
          "text": [
            "/usr/local/lib/python3.8/dist-packages/pandas/core/indexing.py:1732: SettingWithCopyWarning: \n",
            "A value is trying to be set on a copy of a slice from a DataFrame\n",
            "\n",
            "See the caveats in the documentation: https://pandas.pydata.org/pandas-docs/stable/user_guide/indexing.html#returning-a-view-versus-a-copy\n",
            "  self._setitem_single_block(indexer, value, name)\n"
          ]
        }
      ]
    },
    {
      "cell_type": "code",
      "source": [
        "Chatbot_Data.A.loc[4120]='주변 분들의 얘기를 들어보는건 어떨까요?'"
      ],
      "metadata": {
        "id": "4GUWmaej-dtv"
      },
      "execution_count": null,
      "outputs": []
    },
    {
      "cell_type": "code",
      "source": [
        "Chatbot_Data.A.loc[3311]='날씨도 추운데 뜨끈한 국물 드세요!'"
      ],
      "metadata": {
        "colab": {
          "base_uri": "https://localhost:8080/"
        },
        "id": "F-TZE8eN-MdY",
        "outputId": "2dcee5fb-bb22-4f13-84a4-db7263c4559b"
      },
      "execution_count": null,
      "outputs": [
        {
          "output_type": "stream",
          "name": "stderr",
          "text": [
            "/usr/local/lib/python3.8/dist-packages/pandas/core/indexing.py:1732: SettingWithCopyWarning: \n",
            "A value is trying to be set on a copy of a slice from a DataFrame\n",
            "\n",
            "See the caveats in the documentation: https://pandas.pydata.org/pandas-docs/stable/user_guide/indexing.html#returning-a-view-versus-a-copy\n",
            "  self._setitem_single_block(indexer, value, name)\n"
          ]
        }
      ]
    },
    {
      "cell_type": "code",
      "source": [
        "Chatbot_Data.A.loc[808]='그럴리가요 확인해보세요.'"
      ],
      "metadata": {
        "id": "4kE1Pa5k3PEU",
        "colab": {
          "base_uri": "https://localhost:8080/"
        },
        "outputId": "dd8f74ce-fdb1-459b-ea2a-d19cbd443a3f"
      },
      "execution_count": null,
      "outputs": [
        {
          "output_type": "stream",
          "name": "stderr",
          "text": [
            "/usr/local/lib/python3.8/dist-packages/pandas/core/indexing.py:1732: SettingWithCopyWarning: \n",
            "A value is trying to be set on a copy of a slice from a DataFrame\n",
            "\n",
            "See the caveats in the documentation: https://pandas.pydata.org/pandas-docs/stable/user_guide/indexing.html#returning-a-view-versus-a-copy\n",
            "  self._setitem_single_block(indexer, value, name)\n"
          ]
        }
      ]
    },
    {
      "cell_type": "markdown",
      "source": [
        "* 저는 추가적으로 데이터셋의 어색한 부분이나 꼬인부분을 별도로 확인하여 수정하였습니다."
      ],
      "metadata": {
        "id": "hlSZ8dLmPr25"
      }
    },
    {
      "cell_type": "code",
      "source": [
        "Chatbot_Data=Chatbot_Data.copy()"
      ],
      "metadata": {
        "id": "7C1kRZjG0PlL"
      },
      "execution_count": null,
      "outputs": []
    },
    {
      "cell_type": "code",
      "source": [
        "Chatbot_Data.to_csv('chatbotdata.csv',encoding='cp949')"
      ],
      "metadata": {
        "id": "f0o6c-570xLU"
      },
      "execution_count": null,
      "outputs": []
    },
    {
      "cell_type": "code",
      "source": [
        "Chatbot_Data.A.loc[3691]='쫑긋이에요.'"
      ],
      "metadata": {
        "id": "ho4jMcd0zeU0"
      },
      "execution_count": null,
      "outputs": []
    },
    {
      "cell_type": "code",
      "source": [
        "device = torch.device('cuda')"
      ],
      "metadata": {
        "id": "o1ZqGb2_BPrT"
      },
      "execution_count": null,
      "outputs": []
    },
    {
      "cell_type": "code",
      "source": [
        "train_set = ChatbotDataset(Chatbot_Data, max_len=40)\n",
        "#윈도우 환경에서 num_workers 는 무조건 0으로 지정, 리눅스에서는 2\n",
        "train_dataloader = DataLoader(train_set, batch_size=32, num_workers=2, shuffle=True, collate_fn=collate_batch,)"
      ],
      "metadata": {
        "id": "LADrzGWw4S_R"
      },
      "execution_count": null,
      "outputs": []
    },
    {
      "cell_type": "code",
      "source": [
        "model.train()"
      ],
      "metadata": {
        "colab": {
          "base_uri": "https://localhost:8080/"
        },
        "id": "mElEmpnS4S83",
        "outputId": "cd12f575-880f-4ef0-9092-cd5c0cfeeae4"
      },
      "execution_count": null,
      "outputs": [
        {
          "output_type": "execute_result",
          "data": {
            "text/plain": [
              "GPT2LMHeadModel(\n",
              "  (transformer): GPT2Model(\n",
              "    (wte): Embedding(51200, 768)\n",
              "    (wpe): Embedding(1024, 768)\n",
              "    (drop): Dropout(p=0.1, inplace=False)\n",
              "    (h): ModuleList(\n",
              "      (0): GPT2Block(\n",
              "        (ln_1): LayerNorm((768,), eps=1e-05, elementwise_affine=True)\n",
              "        (attn): GPT2Attention(\n",
              "          (c_attn): Conv1D()\n",
              "          (c_proj): Conv1D()\n",
              "          (attn_dropout): Dropout(p=0.1, inplace=False)\n",
              "          (resid_dropout): Dropout(p=0.1, inplace=False)\n",
              "        )\n",
              "        (ln_2): LayerNorm((768,), eps=1e-05, elementwise_affine=True)\n",
              "        (mlp): GPT2MLP(\n",
              "          (c_fc): Conv1D()\n",
              "          (c_proj): Conv1D()\n",
              "          (act): NewGELUActivation()\n",
              "          (dropout): Dropout(p=0.1, inplace=False)\n",
              "        )\n",
              "      )\n",
              "      (1): GPT2Block(\n",
              "        (ln_1): LayerNorm((768,), eps=1e-05, elementwise_affine=True)\n",
              "        (attn): GPT2Attention(\n",
              "          (c_attn): Conv1D()\n",
              "          (c_proj): Conv1D()\n",
              "          (attn_dropout): Dropout(p=0.1, inplace=False)\n",
              "          (resid_dropout): Dropout(p=0.1, inplace=False)\n",
              "        )\n",
              "        (ln_2): LayerNorm((768,), eps=1e-05, elementwise_affine=True)\n",
              "        (mlp): GPT2MLP(\n",
              "          (c_fc): Conv1D()\n",
              "          (c_proj): Conv1D()\n",
              "          (act): NewGELUActivation()\n",
              "          (dropout): Dropout(p=0.1, inplace=False)\n",
              "        )\n",
              "      )\n",
              "      (2): GPT2Block(\n",
              "        (ln_1): LayerNorm((768,), eps=1e-05, elementwise_affine=True)\n",
              "        (attn): GPT2Attention(\n",
              "          (c_attn): Conv1D()\n",
              "          (c_proj): Conv1D()\n",
              "          (attn_dropout): Dropout(p=0.1, inplace=False)\n",
              "          (resid_dropout): Dropout(p=0.1, inplace=False)\n",
              "        )\n",
              "        (ln_2): LayerNorm((768,), eps=1e-05, elementwise_affine=True)\n",
              "        (mlp): GPT2MLP(\n",
              "          (c_fc): Conv1D()\n",
              "          (c_proj): Conv1D()\n",
              "          (act): NewGELUActivation()\n",
              "          (dropout): Dropout(p=0.1, inplace=False)\n",
              "        )\n",
              "      )\n",
              "      (3): GPT2Block(\n",
              "        (ln_1): LayerNorm((768,), eps=1e-05, elementwise_affine=True)\n",
              "        (attn): GPT2Attention(\n",
              "          (c_attn): Conv1D()\n",
              "          (c_proj): Conv1D()\n",
              "          (attn_dropout): Dropout(p=0.1, inplace=False)\n",
              "          (resid_dropout): Dropout(p=0.1, inplace=False)\n",
              "        )\n",
              "        (ln_2): LayerNorm((768,), eps=1e-05, elementwise_affine=True)\n",
              "        (mlp): GPT2MLP(\n",
              "          (c_fc): Conv1D()\n",
              "          (c_proj): Conv1D()\n",
              "          (act): NewGELUActivation()\n",
              "          (dropout): Dropout(p=0.1, inplace=False)\n",
              "        )\n",
              "      )\n",
              "      (4): GPT2Block(\n",
              "        (ln_1): LayerNorm((768,), eps=1e-05, elementwise_affine=True)\n",
              "        (attn): GPT2Attention(\n",
              "          (c_attn): Conv1D()\n",
              "          (c_proj): Conv1D()\n",
              "          (attn_dropout): Dropout(p=0.1, inplace=False)\n",
              "          (resid_dropout): Dropout(p=0.1, inplace=False)\n",
              "        )\n",
              "        (ln_2): LayerNorm((768,), eps=1e-05, elementwise_affine=True)\n",
              "        (mlp): GPT2MLP(\n",
              "          (c_fc): Conv1D()\n",
              "          (c_proj): Conv1D()\n",
              "          (act): NewGELUActivation()\n",
              "          (dropout): Dropout(p=0.1, inplace=False)\n",
              "        )\n",
              "      )\n",
              "      (5): GPT2Block(\n",
              "        (ln_1): LayerNorm((768,), eps=1e-05, elementwise_affine=True)\n",
              "        (attn): GPT2Attention(\n",
              "          (c_attn): Conv1D()\n",
              "          (c_proj): Conv1D()\n",
              "          (attn_dropout): Dropout(p=0.1, inplace=False)\n",
              "          (resid_dropout): Dropout(p=0.1, inplace=False)\n",
              "        )\n",
              "        (ln_2): LayerNorm((768,), eps=1e-05, elementwise_affine=True)\n",
              "        (mlp): GPT2MLP(\n",
              "          (c_fc): Conv1D()\n",
              "          (c_proj): Conv1D()\n",
              "          (act): NewGELUActivation()\n",
              "          (dropout): Dropout(p=0.1, inplace=False)\n",
              "        )\n",
              "      )\n",
              "      (6): GPT2Block(\n",
              "        (ln_1): LayerNorm((768,), eps=1e-05, elementwise_affine=True)\n",
              "        (attn): GPT2Attention(\n",
              "          (c_attn): Conv1D()\n",
              "          (c_proj): Conv1D()\n",
              "          (attn_dropout): Dropout(p=0.1, inplace=False)\n",
              "          (resid_dropout): Dropout(p=0.1, inplace=False)\n",
              "        )\n",
              "        (ln_2): LayerNorm((768,), eps=1e-05, elementwise_affine=True)\n",
              "        (mlp): GPT2MLP(\n",
              "          (c_fc): Conv1D()\n",
              "          (c_proj): Conv1D()\n",
              "          (act): NewGELUActivation()\n",
              "          (dropout): Dropout(p=0.1, inplace=False)\n",
              "        )\n",
              "      )\n",
              "      (7): GPT2Block(\n",
              "        (ln_1): LayerNorm((768,), eps=1e-05, elementwise_affine=True)\n",
              "        (attn): GPT2Attention(\n",
              "          (c_attn): Conv1D()\n",
              "          (c_proj): Conv1D()\n",
              "          (attn_dropout): Dropout(p=0.1, inplace=False)\n",
              "          (resid_dropout): Dropout(p=0.1, inplace=False)\n",
              "        )\n",
              "        (ln_2): LayerNorm((768,), eps=1e-05, elementwise_affine=True)\n",
              "        (mlp): GPT2MLP(\n",
              "          (c_fc): Conv1D()\n",
              "          (c_proj): Conv1D()\n",
              "          (act): NewGELUActivation()\n",
              "          (dropout): Dropout(p=0.1, inplace=False)\n",
              "        )\n",
              "      )\n",
              "      (8): GPT2Block(\n",
              "        (ln_1): LayerNorm((768,), eps=1e-05, elementwise_affine=True)\n",
              "        (attn): GPT2Attention(\n",
              "          (c_attn): Conv1D()\n",
              "          (c_proj): Conv1D()\n",
              "          (attn_dropout): Dropout(p=0.1, inplace=False)\n",
              "          (resid_dropout): Dropout(p=0.1, inplace=False)\n",
              "        )\n",
              "        (ln_2): LayerNorm((768,), eps=1e-05, elementwise_affine=True)\n",
              "        (mlp): GPT2MLP(\n",
              "          (c_fc): Conv1D()\n",
              "          (c_proj): Conv1D()\n",
              "          (act): NewGELUActivation()\n",
              "          (dropout): Dropout(p=0.1, inplace=False)\n",
              "        )\n",
              "      )\n",
              "      (9): GPT2Block(\n",
              "        (ln_1): LayerNorm((768,), eps=1e-05, elementwise_affine=True)\n",
              "        (attn): GPT2Attention(\n",
              "          (c_attn): Conv1D()\n",
              "          (c_proj): Conv1D()\n",
              "          (attn_dropout): Dropout(p=0.1, inplace=False)\n",
              "          (resid_dropout): Dropout(p=0.1, inplace=False)\n",
              "        )\n",
              "        (ln_2): LayerNorm((768,), eps=1e-05, elementwise_affine=True)\n",
              "        (mlp): GPT2MLP(\n",
              "          (c_fc): Conv1D()\n",
              "          (c_proj): Conv1D()\n",
              "          (act): NewGELUActivation()\n",
              "          (dropout): Dropout(p=0.1, inplace=False)\n",
              "        )\n",
              "      )\n",
              "      (10): GPT2Block(\n",
              "        (ln_1): LayerNorm((768,), eps=1e-05, elementwise_affine=True)\n",
              "        (attn): GPT2Attention(\n",
              "          (c_attn): Conv1D()\n",
              "          (c_proj): Conv1D()\n",
              "          (attn_dropout): Dropout(p=0.1, inplace=False)\n",
              "          (resid_dropout): Dropout(p=0.1, inplace=False)\n",
              "        )\n",
              "        (ln_2): LayerNorm((768,), eps=1e-05, elementwise_affine=True)\n",
              "        (mlp): GPT2MLP(\n",
              "          (c_fc): Conv1D()\n",
              "          (c_proj): Conv1D()\n",
              "          (act): NewGELUActivation()\n",
              "          (dropout): Dropout(p=0.1, inplace=False)\n",
              "        )\n",
              "      )\n",
              "      (11): GPT2Block(\n",
              "        (ln_1): LayerNorm((768,), eps=1e-05, elementwise_affine=True)\n",
              "        (attn): GPT2Attention(\n",
              "          (c_attn): Conv1D()\n",
              "          (c_proj): Conv1D()\n",
              "          (attn_dropout): Dropout(p=0.1, inplace=False)\n",
              "          (resid_dropout): Dropout(p=0.1, inplace=False)\n",
              "        )\n",
              "        (ln_2): LayerNorm((768,), eps=1e-05, elementwise_affine=True)\n",
              "        (mlp): GPT2MLP(\n",
              "          (c_fc): Conv1D()\n",
              "          (c_proj): Conv1D()\n",
              "          (act): NewGELUActivation()\n",
              "          (dropout): Dropout(p=0.1, inplace=False)\n",
              "        )\n",
              "      )\n",
              "    )\n",
              "    (ln_f): LayerNorm((768,), eps=1e-05, elementwise_affine=True)\n",
              "  )\n",
              "  (lm_head): Linear(in_features=768, out_features=51200, bias=False)\n",
              ")"
            ]
          },
          "metadata": {},
          "execution_count": 28
        }
      ]
    },
    {
      "cell_type": "code",
      "source": [
        "Chatbot_Data.drop(['Unnamed: 0','구분'],axis=1,inplace=True)"
      ],
      "metadata": {
        "id": "D3VohQPtBFST"
      },
      "execution_count": null,
      "outputs": []
    },
    {
      "cell_type": "code",
      "source": [
        "Chatbot_Data.rename(columns = {'유저' : 'Q','챗봇':'A'}, inplace = True)"
      ],
      "metadata": {
        "id": "eM0n29TQBbsb"
      },
      "execution_count": null,
      "outputs": []
    },
    {
      "cell_type": "code",
      "source": [
        "Chatbot_Data.to_csv('datset.csv',encoding='cp949')"
      ],
      "metadata": {
        "id": "hmAVJjDWBw7J"
      },
      "execution_count": null,
      "outputs": []
    },
    {
      "cell_type": "code",
      "source": [
        "learning_rate = 5e-5\n",
        "criterion = torch.nn.CrossEntropyLoss(reduction=\"none\")\n",
        "optimizer = torch.optim.Adam(model.parameters(), lr=learning_rate)\n",
        "\n",
        "epoch = 10\n",
        "Sneg = -1e18"
      ],
      "metadata": {
        "id": "Nh9gnnTG5GKF"
      },
      "execution_count": null,
      "outputs": []
    },
    {
      "cell_type": "code",
      "source": [
        "torch.cuda.empty_cache() #cuda의 cache memory가 비어있는지 확인"
      ],
      "metadata": {
        "id": "VxFluYy186Uj"
      },
      "execution_count": null,
      "outputs": []
    },
    {
      "cell_type": "code",
      "source": [
        "print (\"start\")\n",
        "for epoch in range(epoch):\n",
        "    for batch_idx, samples in enumerate(train_dataloader):\n",
        "        optimizer.zero_grad()\n",
        "        token_ids, mask, label = samples\n",
        "        out = model(token_ids)\n",
        "        out = out.logits      #Returns a new tensor with the logit of the elements of input\n",
        "        mask_3d = mask.unsqueeze(dim=2).repeat_interleave(repeats=out.shape[2], dim=2)\n",
        "        mask_out = torch.where(mask_3d == 1, out, Sneg * torch.ones_like(out))\n",
        "        loss = criterion(mask_out.transpose(2, 1), label)\n",
        "        # 평균 loss 만들기 avg_loss[0] / avg_loss[1] <- loss 정규화\n",
        "        avg_loss = loss.sum() / mask.sum()\n",
        "        avg_loss.backward()\n",
        "        # 학습 끝\n",
        "        optimizer.step()\n",
        "print (\"end\")"
      ],
      "metadata": {
        "colab": {
          "base_uri": "https://localhost:8080/"
        },
        "id": "-Ed7rniu5GH5",
        "outputId": "e3685b23-ffd4-454a-fdc3-277f522f4cc4"
      },
      "execution_count": null,
      "outputs": [
        {
          "output_type": "stream",
          "name": "stdout",
          "text": [
            "start\n"
          ]
        },
        {
          "output_type": "stream",
          "name": "stderr",
          "text": [
            "<ipython-input-10-495d11317178>:5: UserWarning: Creating a tensor from a list of numpy.ndarrays is extremely slow. Please consider converting the list to a single numpy.ndarray with numpy.array() before converting to a tensor. (Triggered internally at  ../torch/csrc/utils/tensor_new.cpp:201.)\n",
            "  return torch.LongTensor(data), torch.LongTensor(mask), torch.LongTensor(label)\n",
            "<ipython-input-10-495d11317178>:5: UserWarning: Creating a tensor from a list of numpy.ndarrays is extremely slow. Please consider converting the list to a single numpy.ndarray with numpy.array() before converting to a tensor. (Triggered internally at  ../torch/csrc/utils/tensor_new.cpp:201.)\n",
            "  return torch.LongTensor(data), torch.LongTensor(mask), torch.LongTensor(label)\n",
            "<ipython-input-10-495d11317178>:5: UserWarning: Creating a tensor from a list of numpy.ndarrays is extremely slow. Please consider converting the list to a single numpy.ndarray with numpy.array() before converting to a tensor. (Triggered internally at  ../torch/csrc/utils/tensor_new.cpp:201.)\n",
            "  return torch.LongTensor(data), torch.LongTensor(mask), torch.LongTensor(label)\n",
            "<ipython-input-10-495d11317178>:5: UserWarning: Creating a tensor from a list of numpy.ndarrays is extremely slow. Please consider converting the list to a single numpy.ndarray with numpy.array() before converting to a tensor. (Triggered internally at  ../torch/csrc/utils/tensor_new.cpp:201.)\n",
            "  return torch.LongTensor(data), torch.LongTensor(mask), torch.LongTensor(label)\n",
            "<ipython-input-10-495d11317178>:5: UserWarning: Creating a tensor from a list of numpy.ndarrays is extremely slow. Please consider converting the list to a single numpy.ndarray with numpy.array() before converting to a tensor. (Triggered internally at  ../torch/csrc/utils/tensor_new.cpp:201.)\n",
            "  return torch.LongTensor(data), torch.LongTensor(mask), torch.LongTensor(label)\n",
            "<ipython-input-10-495d11317178>:5: UserWarning: Creating a tensor from a list of numpy.ndarrays is extremely slow. Please consider converting the list to a single numpy.ndarray with numpy.array() before converting to a tensor. (Triggered internally at  ../torch/csrc/utils/tensor_new.cpp:201.)\n",
            "  return torch.LongTensor(data), torch.LongTensor(mask), torch.LongTensor(label)\n",
            "<ipython-input-10-495d11317178>:5: UserWarning: Creating a tensor from a list of numpy.ndarrays is extremely slow. Please consider converting the list to a single numpy.ndarray with numpy.array() before converting to a tensor. (Triggered internally at  ../torch/csrc/utils/tensor_new.cpp:201.)\n",
            "  return torch.LongTensor(data), torch.LongTensor(mask), torch.LongTensor(label)\n",
            "<ipython-input-10-495d11317178>:5: UserWarning: Creating a tensor from a list of numpy.ndarrays is extremely slow. Please consider converting the list to a single numpy.ndarray with numpy.array() before converting to a tensor. (Triggered internally at  ../torch/csrc/utils/tensor_new.cpp:201.)\n",
            "  return torch.LongTensor(data), torch.LongTensor(mask), torch.LongTensor(label)\n",
            "<ipython-input-10-495d11317178>:5: UserWarning: Creating a tensor from a list of numpy.ndarrays is extremely slow. Please consider converting the list to a single numpy.ndarray with numpy.array() before converting to a tensor. (Triggered internally at  ../torch/csrc/utils/tensor_new.cpp:201.)\n",
            "  return torch.LongTensor(data), torch.LongTensor(mask), torch.LongTensor(label)\n",
            "<ipython-input-10-495d11317178>:5: UserWarning: Creating a tensor from a list of numpy.ndarrays is extremely slow. Please consider converting the list to a single numpy.ndarray with numpy.array() before converting to a tensor. (Triggered internally at  ../torch/csrc/utils/tensor_new.cpp:201.)\n",
            "  return torch.LongTensor(data), torch.LongTensor(mask), torch.LongTensor(label)\n",
            "<ipython-input-10-495d11317178>:5: UserWarning: Creating a tensor from a list of numpy.ndarrays is extremely slow. Please consider converting the list to a single numpy.ndarray with numpy.array() before converting to a tensor. (Triggered internally at  ../torch/csrc/utils/tensor_new.cpp:201.)\n",
            "  return torch.LongTensor(data), torch.LongTensor(mask), torch.LongTensor(label)\n",
            "<ipython-input-10-495d11317178>:5: UserWarning: Creating a tensor from a list of numpy.ndarrays is extremely slow. Please consider converting the list to a single numpy.ndarray with numpy.array() before converting to a tensor. (Triggered internally at  ../torch/csrc/utils/tensor_new.cpp:201.)\n",
            "  return torch.LongTensor(data), torch.LongTensor(mask), torch.LongTensor(label)\n"
          ]
        }
      ]
    },
    {
      "cell_type": "code",
      "source": [
        "with torch.no_grad():\n",
        "    while 1:\n",
        "        q = input(\"user > \").strip()\n",
        "        if q == \"quit\":\n",
        "            break\n",
        "        a = \"\"\n",
        "        while 1:\n",
        "            input_ids = torch.LongTensor(koGPT2_TOKENIZER.encode(Q_TKN + q  + A_TKN + a)).unsqueeze(dim=0)\n",
        "            pred = model(input_ids)\n",
        "            pred = pred.logits\n",
        "            gen = koGPT2_TOKENIZER.convert_ids_to_tokens(torch.argmax(pred, dim=-1).squeeze().numpy().tolist())[-1]\n",
        "            if gen == EOS:\n",
        "                break\n",
        "            a += gen.replace(\"▁\", \" \")\n",
        "        print(\"Chatbot > {}\".format(a.strip()))"
      ],
      "metadata": {
        "id": "2Xo-3vp27lwg"
      },
      "execution_count": null,
      "outputs": []
    },
    {
      "cell_type": "code",
      "source": [
        "PATH = ''"
      ],
      "metadata": {
        "id": "NB2si4tGsDgP"
      },
      "execution_count": null,
      "outputs": []
    },
    {
      "cell_type": "code",
      "source": [
        "torch.save(model,PATH+'save_model')"
      ],
      "metadata": {
        "id": "JhXQx6fA7loY"
      },
      "execution_count": null,
      "outputs": []
    },
    {
      "cell_type": "markdown",
      "source": [
        "마지막으로 model을 저장하는 이유는 해당 모델을 가지고 이후 streamlit을 통한 UI가 있는 ChatBot을 구현하기 위함입니다."
      ],
      "metadata": {
        "id": "p4p74JnqSkGc"
      }
    }
  ]
}